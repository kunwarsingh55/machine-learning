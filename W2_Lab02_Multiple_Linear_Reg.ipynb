{
 "cells": [
  {
   "cell_type": "markdown",
   "id": "3fd76529-7352-43da-ba5d-6bdfdaeff767",
   "metadata": {},
   "source": [
    "## Multiple Variable Linear Regression\n",
    "#### Extending previous univeriate linear reg model to multiple regression model. \n",
    "- Extend data structure support to support multiple features\n",
    "- Redo prediction, gradient and cost comput routines\n",
    "- Vectorize operations using dot product function in numpy"
   ]
  },
  {
   "cell_type": "code",
   "execution_count": 282,
   "id": "5563b1df-5e49-451a-8421-076d039a4312",
   "metadata": {},
   "outputs": [],
   "source": [
    "import math, copy\n",
    "import numpy as np\n",
    "import matplotlib.pyplot as plt\n",
    "np.set_printoptions(precision=2) #reduce display precision"
   ]
  },
  {
   "cell_type": "markdown",
   "id": "accf35ee-c726-42c7-8ccd-6fbbaf824a84",
   "metadata": {},
   "source": [
    "## Traning data\n",
    "3 Examples, Four features\n"
   ]
  },
  {
   "cell_type": "raw",
   "id": "03a7016f-42b5-4dc8-bdb8-57cee8d11f52",
   "metadata": {},
   "source": [
    "SIZE  |  BEDROOMS | FLOORS  |  AGE  | PRICE |\n",
    "2104        5          1       45      460\n",
    "1416        3          2       40      232\n",
    "852         2          1       35      178"
   ]
  },
  {
   "cell_type": "code",
   "execution_count": 2,
   "id": "119b3d37-1328-4fab-b7de-b7a44eac9c02",
   "metadata": {},
   "outputs": [],
   "source": [
    "x_train = np.array([[2104, 5, 1, 45],\n",
    "                    [1416, 3, 2, 40],\n",
    "                    [852,  2, 1, 35]])\n",
    "y_train = np.array([460, 232, 178])"
   ]
  },
  {
   "cell_type": "code",
   "execution_count": 3,
   "id": "203ad7dd-7035-4d50-a8ee-08fcb392ca5d",
   "metadata": {},
   "outputs": [
    {
     "name": "stdout",
     "output_type": "stream",
     "text": [
      "X Shape: (3, 4), X Type:<class 'numpy.ndarray'>)\n",
      "[[2104    5    1   45]\n",
      " [1416    3    2   40]\n",
      " [ 852    2    1   35]]\n",
      "y Shape: (3,), y Type:<class 'numpy.ndarray'>)\n",
      "[460 232 178]\n"
     ]
    }
   ],
   "source": [
    "# data is stored in numpy array/matrix\n",
    "print(f\"X Shape: {x_train.shape}, X Type:{type(x_train)})\")\n",
    "print(x_train)\n",
    "print(f\"y Shape: {y_train.shape}, y Type:{type(y_train)})\")\n",
    "print(y_train)"
   ]
  },
  {
   "cell_type": "markdown",
   "id": "7321f27e-d67d-45ba-90b6-118f7fe6ed83",
   "metadata": {},
   "source": [
    "## Parameter Vector\n",
    "- W is a vector with n elements\n",
    "- b is Scalar"
   ]
  },
  {
   "cell_type": "code",
   "execution_count": 4,
   "id": "1b428b5c-abd5-41e8-8be0-42c0751c7cb1",
   "metadata": {},
   "outputs": [],
   "source": [
    "# Initial value to start with of w and b\n",
    "w_init = np.array([ 0.39133535, 18.75376741, -53.36032453, -26.42131618])\n",
    "b_init = 785.1811367994083"
   ]
  },
  {
   "cell_type": "markdown",
   "id": "2b8fd35d-7f69-44c6-968c-5b4d128cbc56",
   "metadata": {},
   "source": [
    "## Model Prediction With Multiple Variables\n",
    "- 𝑓𝐰,𝑏(𝐱)=𝑤0𝑥0+𝑤1𝑥1+...+𝑤𝑛−1𝑥𝑛−1+𝑏\n",
    "- 𝑓𝐰,𝑏(𝐱)=𝐰⋅𝐱+𝑏"
   ]
  },
  {
   "cell_type": "code",
   "execution_count": 5,
   "id": "e453df0e-3bb7-4bb0-a059-90af7c71adb0",
   "metadata": {},
   "outputs": [],
   "source": [
    "#Loop version to calculate Prediction\n",
    "def predict_single_loop(x, w, b):\n",
    "    m = x.shape[0]\n",
    "    p = 0\n",
    "    for i in range(m):\n",
    "        p = p + w[i]*x[i]\n",
    "    p = p + b\n",
    "    return p"
   ]
  },
  {
   "cell_type": "code",
   "execution_count": 6,
   "id": "9a59a4f4-15f9-4ca0-bf41-2dbf8d496e9a",
   "metadata": {},
   "outputs": [
    {
     "name": "stdout",
     "output_type": "stream",
     "text": [
      "x_vec shape (4,), x_vec value: [2104    5    1   45]\n",
      "f_wb shape (), prediction: 459.9999976194083\n"
     ]
    }
   ],
   "source": [
    "# get a row from our training data\n",
    "x_vec = x_train[0,:]\n",
    "print(f\"x_vec shape {x_vec.shape}, x_vec value: {x_vec}\")\n",
    "\n",
    "# make a prediction\n",
    "f_wb = predict_single_loop(x_vec, w_init, b_init)\n",
    "print(f\"f_wb shape {f_wb.shape}, prediction: {f_wb}\")"
   ]
  },
  {
   "cell_type": "code",
   "execution_count": 7,
   "id": "1d9748d6-c172-47a2-9729-db30c4556605",
   "metadata": {},
   "outputs": [],
   "source": [
    "#Vectorized Implementation\n",
    "def predict(x, w, b): \n",
    "    p = np.dot(x, w) + b     \n",
    "    return p   "
   ]
  },
  {
   "cell_type": "code",
   "execution_count": 8,
   "id": "5d57678f-7a78-48bb-801e-eba90357f0f1",
   "metadata": {},
   "outputs": [
    {
     "name": "stdout",
     "output_type": "stream",
     "text": [
      "x_vec shape (4,), x_vec value: [2104    5    1   45]\n",
      "f_wb shape (), prediction: 459.9999976194083\n"
     ]
    }
   ],
   "source": [
    "# get a row from our training data\n",
    "x_vec = x_train[0,:]\n",
    "print(f\"x_vec shape {x_vec.shape}, x_vec value: {x_vec}\")\n",
    "\n",
    "# make a prediction\n",
    "f_wb = predict(x_vec, w_init, b_init)\n",
    "print(f\"f_wb shape {f_wb.shape}, prediction: {f_wb}\")"
   ]
  },
  {
   "cell_type": "markdown",
   "id": "559e4ad3-4399-4cf1-8b9f-cd29e15d892f",
   "metadata": {},
   "source": [
    "## Compute Cost With Multiple Variables\n",
    "𝐽(𝐰,𝑏)=12𝑚∑𝑖=0𝑚−1(𝑓𝐰,𝑏(𝐱(𝑖))−𝑦(𝑖))2"
   ]
  },
  {
   "cell_type": "code",
   "execution_count": 9,
   "id": "9055a2ee-1a5a-4af3-8f96-edf780325e60",
   "metadata": {},
   "outputs": [],
   "source": [
    "def compute_cost(x, y, w, b):\n",
    "    m = x.shape[0]\n",
    "    err = 0\n",
    "    for i in range(m):\n",
    "        f_wb_i = np.dot(x[i], w) + b\n",
    "        err = err + (f_wb_i - y[i])**2\n",
    "    cost = err * 1/(2*m)\n",
    "    return cost"
   ]
  },
  {
   "cell_type": "code",
   "execution_count": 10,
   "id": "76b61150-d237-49f6-aedd-696a9deb10fa",
   "metadata": {},
   "outputs": [
    {
     "name": "stdout",
     "output_type": "stream",
     "text": [
      "Cost at optimal w : 1.5578904428966628e-12\n"
     ]
    }
   ],
   "source": [
    "# Compute and display cost using our pre-chosen optimal parameters. \n",
    "cost = compute_cost(x_train, y_train, w_init, b_init)\n",
    "print(f'Cost at optimal w : {cost}')"
   ]
  },
  {
   "cell_type": "markdown",
   "id": "c2db8e20-8ba3-4820-a322-e55f93039b7d",
   "metadata": {},
   "source": [
    "### Compute Gradient Descent with multiple variables"
   ]
  },
  {
   "cell_type": "markdown",
   "id": "5ce31dca-ea01-4f69-bc34-a132dd3ebf7e",
   "metadata": {},
   "source": [
    "- Have to change w1, w2, w3, w(n-1) and b ... till the congergence.\n",
    "- w1 = w1 - alpha*ddJ(w,b)/dw1\n",
    "- w2 = w2 - alpha*dJ(w,b)/dw2\n",
    "- w(n-1) = w(n-1) - alpha*dJ(w,b)/dw(n-1)\n",
    "\n",
    "-dJ(w,b)/dwj = 1/m * i=1 to i = m ∑ (f(w,b)(x[i]) - y[i]) xi,j\n",
    "\n",
    "-dJ(w,b)/dwb = 1/m * i=1 to i = m ∑ (f(w,b)(x[i]) - y[i])"
   ]
  },
  {
   "cell_type": "code",
   "execution_count": 242,
   "id": "732d1c79-86e4-4453-b2a1-4b7766340ca3",
   "metadata": {},
   "outputs": [],
   "source": [
    "def compute_gradient(x, y, w, b): \n",
    "    \n",
    "    m = x.shape[0]  #total traning examples\n",
    "    n = x.shape[1]  #total features\n",
    "    \n",
    "    djdw = np.zeros((n,))\n",
    "    djdb = 0\n",
    "    err_sum = 0\n",
    "    for j in range(n):\n",
    "        for i in range(m):\n",
    "            fwb = np.dot(x[i], w) + b\n",
    "            err = fwb - y[i]\n",
    "            err_sum = err_sum + (err * x[i][j])\n",
    "        djdw[j] = err_sum / m\n",
    "        err_sum = 0\n",
    "   \n",
    "   \n",
    "    for i in range(m):\n",
    "        fwb = np.dot(x[i], w) + b\n",
    "        err = fwb - y[i]\n",
    "        err_sum = err_sum + err\n",
    "        djdb = err_sum / m\n",
    "    \n",
    "    return djdb, djdw\n",
    "    # for i in range(3):\n",
    "    #     err = err + ((np.dot(x[i],w) + b) - y[i])  * x[i][0]\n",
    "    # djw1 = err  / 3\n",
    "    # return djw1\n",
    "    \n",
    "#     err = 0\n",
    "#     for i in range(3):\n",
    "#         err = err + ((np.dot(x[i],w) + b) - y[i])  * x[i][1]\n",
    "#     djw2 = err  / 3\n",
    "    \n",
    "#     err = 0\n",
    "#     for i in range(3):\n",
    "#         err = err + ((np.dot(x[i],w) + b) - y[i])  * x[i][2]\n",
    "#     djw3 = err  / 3\n",
    "    \n",
    "#     err = 0\n",
    "#     for i in range(3):\n",
    "#         err = err + ((np.dot(x[i],w) + b) - y[i])  * x[i][3]\n",
    "#     djw4 = err  / 3\n",
    "    \n",
    "#     djw = np.zeros(4)\n",
    "#     djw[0] = djw1\n",
    "#     djw[1] = djw2\n",
    "#     djw[2] = djw3\n",
    "#     djw[3] = djw4\n",
    "      \n",
    "    \n",
    "#     return djw\n",
    "      \n",
    "    \n",
    "\n",
    "        \n"
   ]
  },
  {
   "cell_type": "code",
   "execution_count": 246,
   "id": "cd12e745-da40-4b6f-8979-c2586081e361",
   "metadata": {},
   "outputs": [
    {
     "name": "stdout",
     "output_type": "stream",
     "text": [
      "dj_db at initial w,b: -1.6739251501955248e-06\n",
      "dj_dw at initial w,b: \n",
      " [-2.73e-03 -6.27e-06 -2.22e-06 -6.92e-05]\n"
     ]
    }
   ],
   "source": [
    "#Compute and display gradient \n",
    "tmp_dj_db, tmp_dj_dw = compute_gradient(x_train, y_train, w_init, b_init)\n",
    "print(f'dj_db at initial w,b: {tmp_dj_db}')\n",
    "print(f'dj_dw at initial w,b: \\n {tmp_dj_dw}')\n"
   ]
  },
  {
   "cell_type": "markdown",
   "id": "6270d50e-df57-47d5-89f3-fde5f889371d",
   "metadata": {},
   "source": [
    "## Implement Gradient Descent\n",
    "i.e updating w vector and b until the convergence"
   ]
  },
  {
   "cell_type": "code",
   "execution_count": 279,
   "id": "01e23b83-e151-4bed-b6f9-d17ee32cbdc2",
   "metadata": {},
   "outputs": [],
   "source": [
    "def gradient_descent(x, y, init_w, init_b, alpha, cost_function, compute_gradinent, iterations):\n",
    "    \n",
    "    costs = []\n",
    "    w = init_w\n",
    "    b = init_b\n",
    "    \n",
    "    j = 0\n",
    "    for i in range(iterations):\n",
    "        dj_db, dj_dw = compute_gradient(x, y, w, b)\n",
    "        w = w - (alpha * dj_dw)\n",
    "        b = b - (alpha * dj_db)\n",
    "        if j == 1000000:\n",
    "            print(cost_function(x, y, w, b))\n",
    "            j = 0\n",
    "        j = j + 1\n",
    "    return w, b, costs \n",
    "    \n",
    "    \n",
    "    "
   ]
  },
  {
   "cell_type": "code",
   "execution_count": 280,
   "id": "92d9a3de-a1e9-4592-aa79-af194b8be64b",
   "metadata": {},
   "outputs": [
    {
     "name": "stdout",
     "output_type": "stream",
     "text": [
      "411.96983457766873\n",
      "294.27257442913896\n",
      "210.20070110213135\n",
      "150.14764739642897\n",
      "107.25138356092974\n",
      "76.61031974323787\n",
      "54.723220310031245\n",
      "39.089131218044656\n",
      "27.9216056863024\n",
      "w =  [  0.17  19.11 -53.49   1.18]\n",
      "b =  0.9989640575109019\n",
      "1.5578904428966628e-12\n"
     ]
    }
   ],
   "source": [
    "w_in = np.zeros(x_train.shape[1])\n",
    "b_in = 0\n",
    "alpha = 7.1e-7\n",
    "iterations = 10000000\n",
    "w, b, costs = gradient_descent(x_train, y_train, w_in, b_in, alpha, compute_cost, compute_gradient, iterations)\n",
    "print(\"w = \", w)\n",
    "print(\"b = \", b)\n",
    "print(cost)"
   ]
  },
  {
   "cell_type": "code",
   "execution_count": 312,
   "id": "1314f64a-77c3-43b5-bf56-cce13cfec943",
   "metadata": {},
   "outputs": [
    {
     "name": "stdout",
     "output_type": "stream",
     "text": [
      "(0,)\n",
      "(0,)\n"
     ]
    },
    {
     "data": {
      "image/png": "[encoded data removed]",
      "text/plain": [
       "<Figure size 640x480 with 1 Axes>"
      ]
     },
     "metadata": {},
     "output_type": "display_data"
    }
   ],
   "source": [
    "# plot cost versus iteration  \n",
    "steps = np.zeros(0)\n",
    "k = 0\n",
    "for i in range(len(costs)):\n",
    "    steps[i] = k\n",
    "    k = k + 1\n",
    "    \n",
    "arr = np.array(costs)\n",
    "print(np.shape(arr))\n",
    "print(np.shape(steps))\n",
    "ptl.plot(steps, costs, c='b',label='Our Prediction')\n",
    "\n",
    "plt.show()"
   ]
  },
  {
   "cell_type": "code",
   "execution_count": null,
   "id": "cefe1f69-1d4c-4102-be95-f17eba51dd33",
   "metadata": {},
   "outputs": [],
   "source": []
  }
 ],
 "metadata": {
  "kernelspec": {
   "display_name": "Python 3 (ipykernel)",
   "language": "python",
   "name": "python3"
  },
  "language_info": {
   "codemirror_mode": {
    "name": "ipython",
    "version": 3
   },
   "file_extension": ".py",
   "mimetype": "text/x-python",
   "name": "python",
   "nbconvert_exporter": "python",
   "pygments_lexer": "ipython3",
   "version": "3.11.0"
  }
 },
 "nbformat": 4,
 "nbformat_minor": 5
}
