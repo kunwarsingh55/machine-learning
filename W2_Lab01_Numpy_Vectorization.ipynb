{
 "cells": [
  {
   "cell_type": "markdown",
   "id": "b7efc103-17a6-4438-8da9-7848ebf0afaa",
   "metadata": {},
   "source": [
    "## NumPy and Vectorization"
   ]
  },
  {
   "cell_type": "code",
   "execution_count": 1,
   "id": "20644deb-8990-47ac-ba95-1103d6d17982",
   "metadata": {},
   "outputs": [],
   "source": [
    "# unofficial standard to use np for numpy\n",
    "import numpy as np\n",
    "import time"
   ]
  },
  {
   "cell_type": "markdown",
   "id": "1d0bc946-c140-43c4-9de5-4e7a3be43045",
   "metadata": {},
   "source": [
    "## NumPy\n",
    "NumPy extends python's abilities to work with richer datasets like vectors, matirces and also gives many more functions for calculations and operations betweent these datasets."
   ]
  },
  {
   "cell_type": "markdown",
   "id": "1d52cd87-dfd9-4937-ad76-ed934eb82a41",
   "metadata": {},
   "source": [
    "## Vectors\n",
    "\n",
    "### A vector\n",
    "- Ordered array of numbers\n",
    "- Elements of vector are of same type\n",
    "- Number of elements in vector is know as its dimention\n"
   ]
  },
  {
   "cell_type": "code",
   "execution_count": 2,
   "id": "c079e6a5-c8ad-498f-8462-903d81804de4",
   "metadata": {},
   "outputs": [],
   "source": [
    "def my_dot(a, b): \n",
    "    \"\"\"\n",
    "   Compute the dot product of two vectors\n",
    " \n",
    "    Args:\n",
    "      a (ndarray (n,)):  input vector \n",
    "      b (ndarray (n,)):  input vector with same dimension as a\n",
    "    \n",
    "    Returns:\n",
    "      x (scalar): \n",
    "    \"\"\"\n",
    "    x=0\n",
    "    for i in range(a.shape[0]):\n",
    "        x = x + a[i] * b[i]\n",
    "    return x"
   ]
  },
  {
   "cell_type": "code",
   "execution_count": null,
   "id": "bd50fc57",
   "metadata": {},
   "outputs": [],
   "source": []
  },
  {
   "cell_type": "code",
   "execution_count": null,
   "id": "5fa2b00a",
   "metadata": {},
   "outputs": [],
   "source": []
  },
  {
   "cell_type": "code",
   "execution_count": null,
   "id": "640e3e7f",
   "metadata": {},
   "outputs": [],
   "source": []
  },
  {
   "cell_type": "code",
   "execution_count": 3,
   "id": "558810ea-46c4-4381-9dee-00ffe36ba6cb",
   "metadata": {},
   "outputs": [
    {
     "name": "stdout",
     "output_type": "stream",
     "text": [
      "np.dot(a, b) =  249998710.6191\n",
      "Vectorized version duration: 12066.5531 ms \n",
      "my_dot(a, b) =  249998710.6187\n",
      "loop version duration: 223319.9902 ms \n"
     ]
    }
   ],
   "source": [
    "np.random.seed(1)\n",
    "a = np.random.rand(1000000000)  # very large arrays\n",
    "b = np.random.rand(1000000000)\n",
    "\n",
    "tic = time.time()  # capture start time\n",
    "c = np.dot(a, b)\n",
    "toc = time.time()  # capture end time\n",
    "\n",
    "print(f\"np.dot(a, b) =  {c:.4f}\")\n",
    "print(f\"Vectorized version duration: {1000*(toc-tic):.4f} ms \")\n",
    "\n",
    "tic = time.time()  # capture start time\n",
    "c = my_dot(a,b)\n",
    "toc = time.time()  # capture end time\n",
    "\n",
    "print(f\"my_dot(a, b) =  {c:.4f}\")\n",
    "print(f\"loop version duration: {1000*(toc-tic):.4f} ms \")\n",
    "\n",
    "del(a);del(b)  #remove these big arrays from memory"
   ]
  },
  {
   "cell_type": "code",
   "execution_count": null,
   "id": "618e2731-f2bf-4f2d-bdbc-0beec242149b",
   "metadata": {},
   "outputs": [],
   "source": []
  }
 ],
 "metadata": {
  "kernelspec": {
   "display_name": "Python 3 (ipykernel)",
   "language": "python",
   "name": "python3"
  },
  "language_info": {
   "codemirror_mode": {
    "name": "ipython",
    "version": 3
   },
   "file_extension": ".py",
   "mimetype": "text/x-python",
   "name": "python",
   "nbconvert_exporter": "python",
   "pygments_lexer": "ipython3",
   "version": "3.11.0"
  },
  "vscode": {
   "interpreter": {
    "hash": "e527ab4e00a03cd9a3d8188f4662ed9f71c83cf0f97d0d50199ead978da1031f"
   }
  }
 },
 "nbformat": 4,
 "nbformat_minor": 5
}
